{
 "cells": [
  {
   "cell_type": "code",
   "execution_count": 9,
   "id": "72289ebe-4248-4985-a826-dd092d8ea3ed",
   "metadata": {},
   "outputs": [
    {
     "name": "stdout",
     "output_type": "stream",
     "text": [
      "(100, 128)\n",
      "(10, 128)\n",
      "Distances (D):\n",
      " [[16.256353 17.526577 17.641703 18.028427 18.198862]\n",
      " [14.221191 15.588301 15.953667 16.61119  16.65957 ]\n",
      " [17.010647 17.553207 17.598967 17.89856  17.982792]\n",
      " [17.655169 17.753386 17.866066 17.890345 18.051277]\n",
      " [15.694202 16.456861 17.053413 17.112684 17.229088]\n",
      " [15.802317 16.401707 16.924883 17.364285 17.461557]\n",
      " [15.935392 16.116259 17.012123 17.118624 17.210512]\n",
      " [15.693578 16.61319  17.206377 18.065845 18.819876]\n",
      " [14.957388 15.994317 16.049309 16.131912 16.709272]\n",
      " [17.370728 17.972992 18.210238 18.511457 18.730286]]\n",
      "Indices (I):\n",
      " [[76 77 23 53 49]\n",
      " [36 43 31 12 64]\n",
      " [52 84 39 81 19]\n",
      " [78 12 76 57 43]\n",
      " [87 96 75  7 51]\n",
      " [15 93 29 23 72]\n",
      " [39 65 75 10 26]\n",
      " [89 35 38 73 20]\n",
      " [55 69 37 32 85]\n",
      " [57 99 72  6 50]]\n"
     ]
    }
   ],
   "source": [
    "import numpy as np\n",
    "import faiss\n",
    "\n",
    "# Step 1: Generate some random data (e.g., 100 vectors of dimension 128)\n",
    "d = 128  # Dimension of the vectors\n",
    "nb = 100  # Number of vectors in the database\n",
    "nq = 10   # Number of query vectors\n",
    "\n",
    "# Random vectors as database (nb vectors of dimension d)\n",
    "xb = np.random.random((nb, d)).astype('float32')\n",
    "\n",
    "# Random vectors as queries (nq vectors of dimension d)\n",
    "xq = np.random.random((nq, d)).astype('float32')\n",
    "\n",
    "\n",
    "print(xb.shape)\n",
    "print(xq.shape)\n",
    "# Step 2: Create a Faiss index\n",
    "# IndexFlatL2 is a simple index that uses the L2 distance to search for nearest neighbors\n",
    "index = faiss.IndexFlatL2(d)\n",
    "\n",
    "# Step 3: Add the vectors to the index\n",
    "index.add(xb)  # Add the database vectors to the index\n",
    "\n",
    "# Step 4: Perform a search for the nearest neighbors\n",
    "k = 5  # Number of nearest neighbors to find\n",
    "D, I = index.search(xq, k)  # D will contain the distances, I will contain the indices\n",
    "\n",
    "# Step 5: Display the results\n",
    "print(\"Distances (D):\\n\", D)\n",
    "print(\"Indices (I):\\n\", I)"
   ]
  },
  {
   "cell_type": "code",
   "execution_count": 11,
   "id": "a9da4c27-fb7f-42a6-82ae-d2c17e1669ef",
   "metadata": {},
   "outputs": [
    {
     "data": {
      "text/plain": [
       "array([[-0.69962424,  0.05650522,  0.8492318 , ...,  0.23148045,\n",
       "         0.18666257,  0.3201271 ],\n",
       "       [ 0.17743818,  0.3238134 ,  0.26041076, ...,  0.5004343 ,\n",
       "         0.6291678 ,  0.3896989 ],\n",
       "       [ 0.3778883 ,  0.55530465,  0.7270944 , ...,  0.05307725,\n",
       "         0.5341706 ,  0.98758173],\n",
       "       ...,\n",
       "       [ 0.53600526,  0.4145273 ,  0.11517183, ...,  0.9445234 ,\n",
       "         0.50819606,  0.9418767 ],\n",
       "       [ 0.9208359 ,  0.08851461,  0.8492019 , ...,  0.34470984,\n",
       "         0.3317671 ,  0.8395345 ],\n",
       "       [ 0.6159058 ,  0.20452574,  0.84711885, ...,  0.9428098 ,\n",
       "         0.6144394 ,  0.49276283]], shape=(100, 128), dtype=float32)"
      ]
     },
     "execution_count": 11,
     "metadata": {},
     "output_type": "execute_result"
    }
   ],
   "source": [
    "xb"
   ]
  },
  {
   "cell_type": "markdown",
   "id": "6346f401-dddf-4145-b9f6-dd54380b4c5e",
   "metadata": {},
   "source": [
    "These are the results of querying **10 query vectors** (`xq`) against a FAISS index containing **100 base vectors** (`xb`), and you're asking FAISS to return the **5 nearest neighbors (k=5)** for each query vector.\n",
    "\n",
    "---\n",
    "\n",
    "### Result Breakdown\n",
    "\n",
    "You got two outputs:\n",
    "\n",
    "1. **Distances (D)** – these are the L2 (Euclidean) distances between each query vector and its nearest neighbors.\n",
    "2. **Indices (I)** – these are the indices (positions) of the nearest neighbors **in your original database (`xb`)**.\n",
    "\n",
    "---\n",
    "\n",
    "### How to Read It\n",
    "\n",
    "Each row corresponds to one query vector.\n",
    "\n",
    "Example:\n",
    "\n",
    "#### First row:\n",
    "```text\n",
    "Distances:\n",
    "[17.725014 17.804916 18.037642 18.049805 18.490448]\n",
    "Indices:\n",
    "[12 95  4 13 87]\n",
    "\n",
    "This means:\n",
    "\t•\tFor query vector xq[0]:\n",
    "\t•\tIts closest vector in the database is xb[12], and the L2 distance is 17.73\n",
    "\t•\tThe second closest is xb[95], distance 17.80\n",
    "\t•\t…and so on, up to the fifth closest xb[87], distance 18.49\n",
    "\n",
    "Another example:\n",
    "\n",
    "Query xq[1] → top 5 neighbors:\n",
    "Indices:   [29 56  2 25 95]\n",
    "Distances: [15.679272 17.418774 18.164995 18.186073 18.192493]\n",
    "\n",
    "So xb[29] is the closest match to xq[1], and it’s a much better match (distance 15.68) than the others (17.4+).\n",
    "\n",
    "⸻\n",
    "\n",
    "What Does the Distance Mean?\n",
    "\n",
    "Faiss is using L2 distance, i.e., the sum of squared differences across all 128 dimensions.\n",
    "\n",
    "Lower values = more similar\n",
    "\n",
    "Higher values = less similar\n",
    "\n",
    "In your case, the distances range from ~15.4 to ~19.0, so:\n",
    "\t•\tAnything close to 15 is a pretty close match\n",
    "\t•\tAnything near 19 is a weaker match (still top 5, but not as close)\n",
    "\n",
    "⸻\n",
    "\n",
    "Summary\n",
    "\t•\tEach row = 1 query vector’s results\n",
    "\t•\tIndices[i] tells you which xb vectors are the closest\n",
    "\t•\tDistances[i] tells you how close they are (lower is better)"
   ]
  }
 ],
 "metadata": {
  "kernelspec": {
   "display_name": "Python 3 (ipykernel)",
   "language": "python",
   "name": "python3"
  },
  "language_info": {
   "codemirror_mode": {
    "name": "ipython",
    "version": 3
   },
   "file_extension": ".py",
   "mimetype": "text/x-python",
   "name": "python",
   "nbconvert_exporter": "python",
   "pygments_lexer": "ipython3",
   "version": "3.12.7"
  }
 },
 "nbformat": 4,
 "nbformat_minor": 5
}

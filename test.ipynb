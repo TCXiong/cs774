{
 "cells": [
  {
   "cell_type": "code",
   "execution_count": 3,
   "id": "4dcf8d30-6cc2-4f15-b572-db6cad121966",
   "metadata": {},
   "outputs": [],
   "source": [
    "import pandas as pd\n",
    "from sentence_transformers import SentenceTransformer\n",
    "import numpy as np\n",
    "import os"
   ]
  },
  {
   "cell_type": "code",
   "execution_count": 2,
   "id": "1d47391d-1106-4a60-89d7-906ab82ea9c6",
   "metadata": {},
   "outputs": [
    {
     "data": {
      "application/vnd.jupyter.widget-view+json": {
       "model_id": "ef00e1b0c8f14b93a34286c2fdb1385d",
       "version_major": 2,
       "version_minor": 0
      },
      "text/plain": [
       "Batches:   0%|          | 0/1 [00:00<?, ?it/s]"
      ]
     },
     "metadata": {},
     "output_type": "display_data"
    },
    {
     "data": {
      "application/vnd.jupyter.widget-view+json": {
       "model_id": "ae8a579165bf4813bf78e3bdbd30592d",
       "version_major": 2,
       "version_minor": 0
      },
      "text/plain": [
       "Batches:   0%|          | 0/1 [00:00<?, ?it/s]"
      ]
     },
     "metadata": {},
     "output_type": "display_data"
    }
   ],
   "source": [
    "# Load data\n",
    "tb1_path = os.path.join(\"small_files\", \"amazon.csv\")\n",
    "tb2_path = os.path.join(\"small_files\", \"best_buy.csv\")\n",
    "\n",
    "# tb1_path = os.path.join(\"files\", \"amazon.csv\")\n",
    "# tb2_path = os.path.join(\"files\", \"best_buy.csv\")\n",
    "\n",
    "table1 = pd.read_csv(tb1_path)\n",
    "table2 = pd.read_csv(tb2_path)\n",
    "\n",
    "# Initialize embedding model\n",
    "# model = SentenceTransformer('all-MiniLM-L6-v2')\n",
    "model = SentenceTransformer('paraphrase-MiniLM-L6-v2')\n",
    "\n",
    "\n",
    "table1['Brand'] = table1['Brand'].fillna('')\n",
    "table1['Name'] = table1['Name'].fillna('')\n",
    "table1['Features'] = table1['Features'].fillna('')\n",
    "table1['combined'] = table1['Brand'] + \" \" + table1['Name'] + \" \" + table1['Features']\n",
    "\n",
    "table2['Brand'] = table2['Brand'].fillna('')\n",
    "table2['Name'] = table2['Name'].fillna('')\n",
    "table2['Features'] = table2['Features'].fillna('')\n",
    "table2['combined'] = table2['Brand'] + \" \" + table2['Name'] + \" \" + table2['Features']\n",
    "\n",
    "\n",
    "\n",
    "embeddings1 = model.encode(table1['combined'].tolist(), show_progress_bar=True)\n",
    "embeddings1 = np.ascontiguousarray(embeddings1, dtype=np.float32)\n",
    "\n",
    "embeddings2 = model.encode(table2['combined'].tolist(), show_progress_bar=True)\n",
    "embeddings2 = np.ascontiguousarray(embeddings2, dtype=np.float32)\n",
    "\n"
   ]
  },
  {
   "cell_type": "code",
   "execution_count": 3,
   "id": "88c5c3b6-d8b5-4d84-96a7-56b1c3f72fbf",
   "metadata": {},
   "outputs": [
    {
     "name": "stdout",
     "output_type": "stream",
     "text": [
      "(10, 384)\n",
      "(9, 384)\n",
      "embeddings1 NaNs: 0 Infs: 0\n",
      "embeddings2 NaNs: 0 Infs: 0\n",
      "Empty rows in table1: 0\n",
      "Empty rows in table2: 0\n"
     ]
    }
   ],
   "source": [
    "print(embeddings1.shape)\n",
    "print(embeddings2.shape)\n",
    "\n",
    "print(\"embeddings1 NaNs:\", np.isnan(embeddings1).sum(), \"Infs:\", np.isinf(embeddings1).sum())\n",
    "print(\"embeddings2 NaNs:\", np.isnan(embeddings2).sum(), \"Infs:\", np.isinf(embeddings2).sum())\n",
    "\n",
    "print(\"Empty rows in table1:\", (table1['combined'].str.strip() == '').sum())\n",
    "print(\"Empty rows in table2:\", (table2['combined'].str.strip() == '').sum())"
   ]
  },
  {
   "cell_type": "code",
   "execution_count": 4,
   "id": "26630520-9959-4160-92d1-fdff115c0ce3",
   "metadata": {},
   "outputs": [],
   "source": [
    "import faiss\n"
   ]
  },
  {
   "cell_type": "code",
   "execution_count": 5,
   "id": "47f8cf41-d335-4821-becc-d9702051e580",
   "metadata": {},
   "outputs": [
    {
     "name": "stdout",
     "output_type": "stream",
     "text": [
      "float32 float32\n"
     ]
    }
   ],
   "source": [
    "print(embeddings1.dtype, embeddings2.dtype)\n"
   ]
  },
  {
   "cell_type": "code",
   "execution_count": 6,
   "id": "cfd6d1f1-170c-44ca-83cf-00d59c40b71e",
   "metadata": {},
   "outputs": [],
   "source": [
    "# Create FAISS index\n",
    "dimension = embeddings1.shape[1]\n",
    "index = faiss.IndexFlatL2(dimension)\n",
    "index.add(embeddings1)\n",
    "\n"
   ]
  },
  {
   "cell_type": "code",
   "execution_count": 7,
   "id": "b4f0e9f8-c8a0-4af2-9870-93b37165d7a5",
   "metadata": {},
   "outputs": [
    {
     "data": {
      "text/plain": [
       "<faiss.swigfaiss.IndexFlatL2; proxy of <Swig Object of type 'faiss::IndexFlatL2 *' at 0x14da66490> >"
      ]
     },
     "execution_count": 7,
     "metadata": {},
     "output_type": "execute_result"
    }
   ],
   "source": [
    "index"
   ]
  },
  {
   "cell_type": "code",
   "execution_count": null,
   "id": "a0b1e9cf-3a8d-4c69-9185-50420e9f8ff7",
   "metadata": {},
   "outputs": [],
   "source": [
    "k = 3  # number of nearest neighbors to retrieve\n",
    "D, I = index.search(embeddings2, k)"
   ]
  },
  {
   "cell_type": "code",
   "execution_count": 1,
   "id": "fa7591b3-6bbb-4c04-9475-d28e42bd6cf5",
   "metadata": {},
   "outputs": [
    {
     "ename": "NameError",
     "evalue": "name 'I' is not defined",
     "output_type": "error",
     "traceback": [
      "\u001b[31m---------------------------------------------------------------------------\u001b[39m",
      "\u001b[31mNameError\u001b[39m                                 Traceback (most recent call last)",
      "\u001b[36mCell\u001b[39m\u001b[36m \u001b[39m\u001b[32mIn[1]\u001b[39m\u001b[32m, line 1\u001b[39m\n\u001b[32m----> \u001b[39m\u001b[32m1\u001b[39m \u001b[43mI\u001b[49m\n",
      "\u001b[31mNameError\u001b[39m: name 'I' is not defined"
     ]
    }
   ],
   "source": [
    "I"
   ]
  },
  {
   "cell_type": "code",
   "execution_count": 8,
   "id": "8849e1e2-05fa-43c1-8621-1b5c576a07fe",
   "metadata": {},
   "outputs": [
    {
     "ename": "IndexError",
     "evalue": "index 1 is out of bounds for axis 0 with size 1",
     "output_type": "error",
     "traceback": [
      "\u001b[31m---------------------------------------------------------------------------\u001b[39m",
      "\u001b[31mIndexError\u001b[39m                                Traceback (most recent call last)",
      "\u001b[36mCell\u001b[39m\u001b[36m \u001b[39m\u001b[32mIn[8]\u001b[39m\u001b[32m, line 9\u001b[39m\n\u001b[32m      7\u001b[39m \u001b[38;5;28;01mfor\u001b[39;00m i \u001b[38;5;129;01min\u001b[39;00m \u001b[38;5;28mrange\u001b[39m(\u001b[38;5;28mlen\u001b[39m(table2)):\n\u001b[32m      8\u001b[39m     \u001b[38;5;28;01mfor\u001b[39;00m j \u001b[38;5;129;01min\u001b[39;00m \u001b[38;5;28mrange\u001b[39m(k):\n\u001b[32m----> \u001b[39m\u001b[32m9\u001b[39m         candidate_pairs.append((table2.iloc[i][\u001b[33m'\u001b[39m\u001b[33mID\u001b[39m\u001b[33m'\u001b[39m], table1.iloc[\u001b[43mI\u001b[49m\u001b[43m[\u001b[49m\u001b[43mi\u001b[49m\u001b[43m]\u001b[49m[j]][\u001b[33m'\u001b[39m\u001b[33mID\u001b[39m\u001b[33m'\u001b[39m]))\n",
      "\u001b[31mIndexError\u001b[39m: index 1 is out of bounds for axis 0 with size 1"
     ]
    }
   ],
   "source": [
    "# Find top k matches for each item in table2\n",
    "k = 3  # number of nearest neighbors to retrieve\n",
    "D, I = index.search(embeddings2, k)\n",
    "\n",
    "# Create candidate pairs\n",
    "candidate_pairs = []\n",
    "for i in range(len(table2)):\n",
    "    for j in range(k):\n",
    "        candidate_pairs.append((table2.iloc[i]['ID'], table1.iloc[I[i][j]]['ID']))"
   ]
  },
  {
   "cell_type": "code",
   "execution_count": null,
   "id": "b0d16e2c-4e47-4c59-b084-c056cf128691",
   "metadata": {},
   "outputs": [],
   "source": []
  },
  {
   "cell_type": "code",
   "execution_count": 4,
   "id": "cbc86fce-d084-4c7a-8e38-00eae008d3b5",
   "metadata": {},
   "outputs": [
    {
     "data": {
      "application/vnd.jupyter.widget-view+json": {
       "model_id": "5b260ff15adb41768b33a869695eacd5",
       "version_major": 2,
       "version_minor": 0
      },
      "text/plain": [
       "Batches:   0%|          | 0/1 [00:00<?, ?it/s]"
      ]
     },
     "metadata": {},
     "output_type": "display_data"
    },
    {
     "data": {
      "application/vnd.jupyter.widget-view+json": {
       "model_id": "4e632f0db48345f69f2c65ffb801c311",
       "version_major": 2,
       "version_minor": 0
      },
      "text/plain": [
       "Batches:   0%|          | 0/1 [00:00<?, ?it/s]"
      ]
     },
     "metadata": {},
     "output_type": "display_data"
    },
    {
     "name": "stdout",
     "output_type": "stream",
     "text": [
      "Query 1:\n",
      " - ID: 1, Score: 0.8298090100288391\n",
      " - ID: 3, Score: 0.6340754628181458\n",
      " - ID: 6, Score: 0.6243159174919128\n",
      "Query 2:\n",
      " - ID: 3, Score: 0.7152881026268005\n",
      " - ID: 9, Score: 0.6670873165130615\n",
      " - ID: 5, Score: 0.6461293697357178\n",
      "Query 3:\n",
      " - ID: 1, Score: 0.739088237285614\n",
      " - ID: 3, Score: 0.6622117161750793\n",
      " - ID: 6, Score: 0.64223313331604\n",
      "Query 4:\n",
      " - ID: 9, Score: 0.7534236907958984\n",
      " - ID: 7, Score: 0.7521322965621948\n",
      " - ID: 3, Score: 0.6443286538124084\n",
      "Query 5:\n",
      " - ID: 3, Score: 0.8231791853904724\n",
      " - ID: 5, Score: 0.70616215467453\n",
      " - ID: 7, Score: 0.6224932074546814\n",
      "Query 6:\n",
      " - ID: 3, Score: 0.6577280163764954\n",
      " - ID: 7, Score: 0.6394349932670593\n",
      " - ID: 9, Score: 0.6184516549110413\n",
      "Query 7:\n",
      " - ID: 3, Score: 0.7506564259529114\n",
      " - ID: 5, Score: 0.7121939063072205\n",
      " - ID: 4, Score: 0.6424106359481812\n",
      "Query 8:\n",
      " - ID: 6, Score: 0.7515442967414856\n",
      " - ID: 3, Score: 0.7055773735046387\n",
      " - ID: 1, Score: 0.6634335517883301\n",
      "Query 9:\n",
      " - ID: 4, Score: 0.5912796258926392\n",
      " - ID: 3, Score: 0.5718963742256165\n",
      " - ID: 6, Score: 0.5544303059577942\n"
     ]
    }
   ],
   "source": [
    "from sentence_transformers import SentenceTransformer\n",
    "from sentence_transformers.util import semantic_search\n",
    "\n",
    "tb1_path = os.path.join(\"small_files\", \"amazon.csv\")\n",
    "tb2_path = os.path.join(\"small_files\", \"best_buy.csv\")\n",
    "\n",
    "# tb1_path = os.path.join(\"files\", \"amazon.csv\")\n",
    "# tb2_path = os.path.join(\"files\", \"best_buy.csv\")\n",
    "\n",
    "table1 = pd.read_csv(tb1_path)\n",
    "table2 = pd.read_csv(tb2_path)\n",
    "# Load the model\n",
    "model = SentenceTransformer('all-MiniLM-L6-v2')\n",
    "\n",
    "# Create embeddings for table1 and table2\n",
    "table1['combined'] = table1['Brand'] + \" \" + table1['Name'] + \" \" + table1['Features'].fillna('')\n",
    "table2['combined'] = table2['Brand'] + \" \" + table2['Name'] + \" \" + table2['Features'].fillna('')\n",
    "\n",
    "embeddings1 = model.encode(table1['combined'].tolist(), show_progress_bar=True)\n",
    "embeddings2 = model.encode(table2['combined'].tolist(), show_progress_bar=True)\n",
    "\n",
    "# Perform semantic search\n",
    "results = semantic_search(embeddings2, embeddings1, top_k=3)\n",
    "\n",
    "# Display results\n",
    "for idx, result in enumerate(results):\n",
    "    print(f\"Query {idx + 1}:\")\n",
    "    for res in result:\n",
    "        print(f\" - ID: {table1.iloc[res['corpus_id']]['ID']}, Score: {res['score']}\")"
   ]
  }
 ],
 "metadata": {
  "kernelspec": {
   "display_name": "Python 3 (ipykernel)",
   "language": "python",
   "name": "python3"
  },
  "language_info": {
   "codemirror_mode": {
    "name": "ipython",
    "version": 3
   },
   "file_extension": ".py",
   "mimetype": "text/x-python",
   "name": "python",
   "nbconvert_exporter": "python",
   "pygments_lexer": "ipython3",
   "version": "3.12.7"
  }
 },
 "nbformat": 4,
 "nbformat_minor": 5
}

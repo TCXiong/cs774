{
 "cells": [
  {
   "cell_type": "code",
   "execution_count": 33,
   "id": "32703b5c-f29f-42f6-acc0-46bd0e0e2066",
   "metadata": {},
   "outputs": [],
   "source": [
    "from sentence_transformers import SentenceTransformer, util\n",
    "import os\n",
    "import pandas as pd\n",
    "import numpy as np\n",
    "\n",
    "\n",
    "model = SentenceTransformer('all-MiniLM-L6-v2')\n",
    "\n",
    "\n",
    "# Load data\n",
    "# tb1_path = os.path.join(\"small_files\", \"amazon.csv\")\n",
    "# tb2_path = os.path.join(\"small_files\", \"best_buy.csv\")\n",
    "\n",
    "tb1_path = os.path.join(\"files\", \"amazon.csv\")\n",
    "tb2_path = os.path.join(\"files\", \"best_buy.csv\")\n",
    "\n",
    "df1 = pd.read_csv(tb1_path)\n",
    "df2 = pd.read_csv(tb2_path)\n",
    "\n",
    "\n",
    "# Extract column values\n",
    "table1_names = list(df1['Name'].astype(str))\n",
    "table2_names = list(df2['Name'].astype(str))\n",
    "\n",
    "table1_brand = list(df1['Brand'].astype(str))\n",
    "table2_brand = list(df2['Brand'].astype(str))\n",
    "\n",
    "table1_features = list(df1['Features'].astype(str))\n",
    "table2_features = list(df2['Features'].astype(str))\n",
    "\n",
    "# Encode them\n",
    "emb1_names = model.encode(table1_names, convert_to_tensor=True)\n",
    "emb2_names = model.encode(table2_names, convert_to_tensor=True)\n",
    "\n",
    "emb1_feats = model.encode(table1_features, convert_to_tensor=True)\n",
    "emb2_feats = model.encode(table2_features, convert_to_tensor=True)\n",
    "\n",
    "emb1_brand = model.encode(table1_brand, convert_to_tensor=True)\n",
    "emb2_brand = model.encode(table2_brand, convert_to_tensor=True)\n"
   ]
  },
  {
   "cell_type": "code",
   "execution_count": 35,
   "id": "0060d8da-2734-485f-8dcd-350d35de4a09",
   "metadata": {},
   "outputs": [
    {
     "data": {
      "text/plain": [
       "torch.Size([4259, 384])"
      ]
     },
     "execution_count": 35,
     "metadata": {},
     "output_type": "execute_result"
    }
   ],
   "source": [
    "emb1_brand.shape\n"
   ]
  },
  {
   "cell_type": "code",
   "execution_count": 37,
   "id": "39adef0d-15ec-4d63-aa35-31ed9c701c6d",
   "metadata": {},
   "outputs": [],
   "source": [
    "# Top-k most similar entries for each product in table1 vs table2\n",
    "top_k = 30\n",
    "\n",
    "name_matches = util.semantic_search(emb1_names, emb2_names, top_k=top_k)\n",
    "feature_matches = util.semantic_search(emb1_feats, emb2_feats, top_k=top_k)\n",
    "brand_matches = util.semantic_search(emb1_brand, emb2_brand, top_k=top_k)"
   ]
  },
  {
   "cell_type": "code",
   "execution_count": null,
   "id": "7dc0b5d7-8c86-4f62-b707-f6d520a98830",
   "metadata": {},
   "outputs": [],
   "source": []
  },
  {
   "cell_type": "code",
   "execution_count": 44,
   "id": "d17cd6cb-1060-4387-aed4-f24291ad7a79",
   "metadata": {},
   "outputs": [],
   "source": [
    "from collections import defaultdict\n",
    "\n",
    "final_candidates = defaultdict(set)\n",
    "\n",
    "for i in range(len(df1)):\n",
    "    name_ids = {match['corpus_id'] for match in name_matches[i]}\n",
    "    feat_ids = {match['corpus_id'] for match in feature_matches[i]}\n",
    "    brand_ids = {match['corpus_id'] for match in brand_matches[i]}\n",
    "    # Combine: choose union or intersection\n",
    "\n",
    "    # combined = name_ids & feat_ids & brand_ids  # intersection\n",
    "    combined = name_ids | feat_ids | brand_ids # union\n",
    "    final_candidates[i] = combined"
   ]
  },
  {
   "cell_type": "code",
   "execution_count": 46,
   "id": "00f0f1a1-c5cb-42b2-bffe-73f383312029",
   "metadata": {
    "scrolled": true
   },
   "outputs": [
    {
     "data": {
      "text/plain": [
       "{10,\n",
       " 28,\n",
       " 29,\n",
       " 131,\n",
       " 151,\n",
       " 152,\n",
       " 153,\n",
       " 154,\n",
       " 161,\n",
       " 279,\n",
       " 282,\n",
       " 465,\n",
       " 579,\n",
       " 610,\n",
       " 639,\n",
       " 685,\n",
       " 728,\n",
       " 729,\n",
       " 854,\n",
       " 868,\n",
       " 929,\n",
       " 953,\n",
       " 965,\n",
       " 973,\n",
       " 977,\n",
       " 980,\n",
       " 981,\n",
       " 982,\n",
       " 985,\n",
       " 986,\n",
       " 1742,\n",
       " 1762,\n",
       " 1787,\n",
       " 1793,\n",
       " 1806,\n",
       " 1807,\n",
       " 1820,\n",
       " 1889,\n",
       " 2162,\n",
       " 2201,\n",
       " 2207,\n",
       " 2209,\n",
       " 2218,\n",
       " 2221,\n",
       " 2303,\n",
       " 2322,\n",
       " 2350,\n",
       " 2411,\n",
       " 2423,\n",
       " 2427,\n",
       " 2458,\n",
       " 2460,\n",
       " 2466,\n",
       " 2476,\n",
       " 2492,\n",
       " 2525,\n",
       " 2540,\n",
       " 2541,\n",
       " 2563,\n",
       " 2585,\n",
       " 2598,\n",
       " 2670,\n",
       " 2820,\n",
       " 2826,\n",
       " 2830,\n",
       " 2876,\n",
       " 2906,\n",
       " 2935,\n",
       " 2950,\n",
       " 2951,\n",
       " 2953,\n",
       " 2956,\n",
       " 2960,\n",
       " 2983,\n",
       " 3002,\n",
       " 3010,\n",
       " 3041,\n",
       " 3051,\n",
       " 3090,\n",
       " 3602,\n",
       " 3787,\n",
       " 3788,\n",
       " 3795,\n",
       " 3836,\n",
       " 3853,\n",
       " 3875,\n",
       " 3876,\n",
       " 4872}"
      ]
     },
     "execution_count": 46,
     "metadata": {},
     "output_type": "execute_result"
    }
   ],
   "source": [
    "final_candidates.get(1)"
   ]
  }
 ],
 "metadata": {
  "kernelspec": {
   "display_name": "Python 3 (ipykernel)",
   "language": "python",
   "name": "python3"
  },
  "language_info": {
   "codemirror_mode": {
    "name": "ipython",
    "version": 3
   },
   "file_extension": ".py",
   "mimetype": "text/x-python",
   "name": "python",
   "nbconvert_exporter": "python",
   "pygments_lexer": "ipython3",
   "version": "3.12.7"
  }
 },
 "nbformat": 4,
 "nbformat_minor": 5
}

{
 "cells": [
  {
   "cell_type": "markdown",
   "id": "dfa040d8-157c-4df3-bcac-f4b1b20ad27c",
   "metadata": {},
   "source": [
    "## Statistics Calculation"
   ]
  },
  {
   "cell_type": "code",
   "execution_count": 16,
   "id": "00ff3b31-eef4-42db-9661-44ab432c89c8",
   "metadata": {},
   "outputs": [
    {
     "name": "stdout",
     "output_type": "stream",
     "text": [
      "Total ground-truth matches: 58\n",
      "Total candidate pairs generated: 127770\n",
      "\n",
      "🔎 Evaluation Metrics:\n",
      "Blocking Recall: 0.7414\n",
      "Blocking Precision: 0.0003\n",
      "Reduction Ratio: -0.0315\n"
     ]
    }
   ],
   "source": [
    "import pandas as pd\n",
    "import os\n",
    "\n",
    "\n",
    "ground_truth_path = os.path.join(\"files\", \"labeled_data.csv\")\n",
    "\n",
    "# Load ground-truth matches \n",
    "ground_truth_df = pd.read_csv(ground_truth_path, skiprows=5)  \n",
    "\n",
    "# Only keep positive matches (gold == 1)\n",
    "ground_truth_matches = set(zip(\n",
    "    ground_truth_df.loc[ground_truth_df['gold'] == 1, 'ltable.ID'],\n",
    "    ground_truth_df.loc[ground_truth_df['gold'] == 1, 'rtable.ID']\n",
    "))\n",
    "\n",
    "print(f\"Total ground-truth matches: {len(ground_truth_matches)}\")\n",
    "\n",
    "# === Load my candidate set\n",
    "candidate_df = pd.read_csv('entity_matches.csv')  \n",
    "\n",
    "# Build candidate set\n",
    "candidate_set = set(zip(candidate_df['left_id'], candidate_df['right_id']))\n",
    "\n",
    "print(f\"Total candidate pairs generated: {len(candidate_set)}\")\n",
    "\n",
    "# === Compute metrics ===\n",
    "\n",
    "# True positives = intersection between candidate set and ground truth matches\n",
    "true_positives = ground_truth_matches.intersection(candidate_set)\n",
    "\n",
    "# Recall = (# of true matches found) / (total true matches)\n",
    "recall = len(true_positives) / len(ground_truth_matches) if len(ground_truth_matches) > 0 else 0.0\n",
    "\n",
    "# Precision = (# of true matches found) / (# of candidate pairs)\n",
    "precision = len(true_positives) / len(candidate_set) if len(candidate_set) > 0 else 0.0\n",
    "\n",
    "# Reduction Ratio (RR) = 1 - (# candidate pairs / total possible pairs)\n",
    "# Total possible pairs = len(ltable) * len(rtable)\n",
    "# You need to know how many total items were in original tables\n",
    "n_ltable = ground_truth_df['ltable.ID'].nunique()\n",
    "n_rtable = ground_truth_df['rtable.ID'].nunique()\n",
    "total_possible_pairs = n_ltable * n_rtable\n",
    "\n",
    "reduction_ratio = 1 - (len(candidate_set) / total_possible_pairs)\n",
    "\n",
    "# === Print results ===\n",
    "print(f\"\\n🔎 Evaluation Metrics:\")\n",
    "print(f\"Blocking Recall: {recall:.4f}\")\n",
    "print(f\"Blocking Precision: {precision:.4f}\")\n",
    "print(f\"Reduction Ratio: {reduction_ratio:.4f}\")"
   ]
  }
 ],
 "metadata": {
  "kernelspec": {
   "display_name": "Python 3 (ipykernel)",
   "language": "python",
   "name": "python3"
  },
  "language_info": {
   "codemirror_mode": {
    "name": "ipython",
    "version": 3
   },
   "file_extension": ".py",
   "mimetype": "text/x-python",
   "name": "python",
   "nbconvert_exporter": "python",
   "pygments_lexer": "ipython3",
   "version": "3.12.7"
  }
 },
 "nbformat": 4,
 "nbformat_minor": 5
}

import numpy as np
import faiss

# Step 1: Generate some random data (e.g., 100 vectors of dimension 128)
d = 128  # Dimension of the vectors
nb = 100  # Number of vectors in the database
nq = 10   # Number of query vectors

# Random vectors as database (nb vectors of dimension d)
xb = np.random.random((nb, d)).astype('float32')

# Random vectors as queries (nq vectors of dimension d)
xq = np.random.random((nq, d)).astype('float32')

# Step 2: Create a Faiss index
# IndexFlatL2 is a simple index that uses the L2 distance to search for nearest neighbors
index = faiss.IndexFlatL2(d)

# Step 3: Add the vectors to the index
index.add(xb)  # Add the database vectors to the index

# Step 4: Perform a search for the nearest neighbors
k = 5  # Number of nearest neighbors to find
D, I = index.search(xq, k)  # D will contain the distances, I will contain the indices

# Step 5: Display the results
print("Distances (D):\n", D)
print("Indices (I):\n", I)







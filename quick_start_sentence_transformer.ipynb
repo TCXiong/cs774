{
 "cells": [
  {
   "cell_type": "code",
   "execution_count": 5,
   "id": "0037be84-de20-4e60-ae75-98e6ae9e545c",
   "metadata": {},
   "outputs": [],
   "source": [
    "import pandas as pd\n",
    "from sentence_transformers import SentenceTransformer\n",
    "import numpy as np\n",
    "import os"
   ]
  },
  {
   "cell_type": "code",
   "execution_count": 6,
   "id": "15bb5887-dd21-462c-8378-fb8414d70217",
   "metadata": {},
   "outputs": [
    {
     "data": {
      "application/vnd.jupyter.widget-view+json": {
       "model_id": "4e86fd71b5054a6f8f0b4d09ec2a6bae",
       "version_major": 2,
       "version_minor": 0
      },
      "text/plain": [
       "Batches:   0%|          | 0/1 [00:00<?, ?it/s]"
      ]
     },
     "metadata": {},
     "output_type": "display_data"
    },
    {
     "data": {
      "application/vnd.jupyter.widget-view+json": {
       "model_id": "dca3a91bf78d40aab3c824fe37687973",
       "version_major": 2,
       "version_minor": 0
      },
      "text/plain": [
       "Batches:   0%|          | 0/1 [00:00<?, ?it/s]"
      ]
     },
     "metadata": {},
     "output_type": "display_data"
    }
   ],
   "source": [
    "# Load data\n",
    "tb1_path = os.path.join(\"small_files\", \"amazon.csv\")\n",
    "tb2_path = os.path.join(\"small_files\", \"best_buy.csv\")\n",
    "\n",
    "table1 = pd.read_csv(tb1_path)\n",
    "table2 = pd.read_csv(tb2_path)\n",
    "\n",
    "# Initialize embedding model\n",
    "model = SentenceTransformer('all-MiniLM-L6-v2')\n",
    "\n",
    "# Create embeddings for table1\n",
    "table1['combined'] = table1['Brand'] + \" \" + table1['Name'] + \" \" + table1['Features'].fillna('')\n",
    "embeddings1 = model.encode(table1['combined'].tolist(), show_progress_bar=True)\n",
    "\n",
    "# Create embeddings for table2\n",
    "table2['combined'] = table2['Brand'] + \" \" + table2['Name'] + \" \" + table2['Features'].fillna('')\n",
    "embeddings2 = model.encode(table2['combined'].tolist(), show_progress_bar=True)\n"
   ]
  },
  {
   "cell_type": "code",
   "execution_count": 7,
   "id": "7b2f5f23-6d9c-4260-a959-be8388340adb",
   "metadata": {},
   "outputs": [
    {
     "name": "stdout",
     "output_type": "stream",
     "text": [
      "(10, 384)\n",
      "(9, 384)\n"
     ]
    }
   ],
   "source": [
    "print(embeddings1.shape)\n",
    "print(embeddings2.shape)"
   ]
  }
 ],
 "metadata": {
  "kernelspec": {
   "display_name": "Python 3 (ipykernel)",
   "language": "python",
   "name": "python3"
  },
  "language_info": {
   "codemirror_mode": {
    "name": "ipython",
    "version": 3
   },
   "file_extension": ".py",
   "mimetype": "text/x-python",
   "name": "python",
   "nbconvert_exporter": "python",
   "pygments_lexer": "ipython3",
   "version": "3.12.7"
  }
 },
 "nbformat": 4,
 "nbformat_minor": 5
}
